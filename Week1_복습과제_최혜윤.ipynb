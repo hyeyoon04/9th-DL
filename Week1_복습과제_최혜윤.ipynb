{
  "nbformat": 4,
  "nbformat_minor": 0,
  "metadata": {
    "colab": {
      "provenance": []
    },
    "kernelspec": {
      "name": "python3",
      "display_name": "Python 3"
    },
    "language_info": {
      "name": "python"
    }
  },
  "cells": [
    {
      "cell_type": "markdown",
      "source": [
        "# **Week1 복습과제**\n",
        "\n",
        "1. [Pytorch 기본]\n",
        "1. [Linear Regression]\n",
        "1. [Logistic Regression]"
      ],
      "metadata": {
        "id": "9mabISNcCPiV"
      }
    },
    {
      "cell_type": "code",
      "execution_count": 1,
      "metadata": {
        "id": "T-Govjsw7kBQ"
      },
      "outputs": [],
      "source": [
        "# import libraries\n",
        "import numpy as np\n",
        "import pandas as pd\n",
        "import matplotlib.pyplot as plt\n",
        "\n",
        "#input data: 첨부된 .csv 파일 다운받아 사용해주세요"
      ]
    },
    {
      "cell_type": "markdown",
      "source": [
        "<a id=\"1\"></a> <br>\n",
        "## 1. Pytorch 기본"
      ],
      "metadata": {
        "id": "0qcO6qTxCUTU"
      }
    },
    {
      "cell_type": "code",
      "source": [
        "# numpy array\n",
        "array = [[1,2,3],[4,5,6]]\n",
        "first_array = np.array(array) # 2x3 array\n",
        "print(\"Array Type: {}\".format(type(first_array))) # type\n",
        "print(\"Array Shape: {}\".format(first_array.shape)) # shape\n",
        "print(first_array)"
      ],
      "metadata": {
        "colab": {
          "base_uri": "https://localhost:8080/"
        },
        "id": "_KdP4S5g7udz",
        "outputId": "d8b0b30b-24f5-44e3-8d7b-dce7117e24b4"
      },
      "execution_count": 2,
      "outputs": [
        {
          "output_type": "stream",
          "name": "stdout",
          "text": [
            "Array Type: <class 'numpy.ndarray'>\n",
            "Array Shape: (2, 3)\n",
            "[[1 2 3]\n",
            " [4 5 6]]\n"
          ]
        }
      ]
    },
    {
      "cell_type": "markdown",
      "source": [
        "- 우리는 NumPy 배열을 살펴보았습니다.\n",
        "- 이제 텐서(PyTorch 배열)를 구현하는 방법을 살펴보겠습니다.\n",
        "- import torch를 사용하여 PyTorch 라이브러리를 가져옵니다.\n",
        "- torch.Tensor() 메서드를 사용하여 텐서를 생성합니다.\n",
        "- type: 배열의 타입을 나타냅니다. 이 예제에서는 텐서입니다.\n",
        "- shape: 배열의 형태를 나타냅니다. (행 × 열)"
      ],
      "metadata": {
        "id": "HfLiM-u1Cj5l"
      }
    },
    {
      "cell_type": "code",
      "source": [
        "# import pytorch library\n",
        "import torch\n",
        "\n",
        "# pytorch array\n",
        "tensor = torch.Tensor(array)\n",
        "print(\"Array Type: {}\".format(type(tensor))) # type\n",
        "print(\"Array Shape: {}\".format(tensor.shape)) # shape\n",
        "print(tensor)"
      ],
      "metadata": {
        "colab": {
          "base_uri": "https://localhost:8080/"
        },
        "id": "d-uAA50o7ua4",
        "outputId": "34ea0590-0dcb-4dad-aaaa-fd2ce976bdf2"
      },
      "execution_count": 3,
      "outputs": [
        {
          "output_type": "stream",
          "name": "stdout",
          "text": [
            "Array Type: <class 'torch.Tensor'>\n",
            "Array Shape: torch.Size([2, 3])\n",
            "tensor([[1., 2., 3.],\n",
            "        [4., 5., 6.]])\n"
          ]
        }
      ]
    },
    {
      "cell_type": "markdown",
      "source": [
        "- 할당(Allocation)은 코딩에서 가장 많이 사용되는 기법 중 하나입니다.\n",
        "- 따라서 PyTorch를 사용하여 이를 구현하는 방법을 배워봅시다.\n",
        "- 학습을 위해 NumPy와 Tensor를 비교해 봅시다.\n",
        "  - np.ones() = torch.ones()\n",
        "  - np.random.rand() = torch.rand()"
      ],
      "metadata": {
        "id": "pEvocwKPC6J1"
      }
    },
    {
      "cell_type": "code",
      "source": [
        "# numpy ones\n",
        "print(\"Numpy {}\\n\".format(np.ones((2,3)))) # 2x3 in numpy\n",
        "\n",
        "# pytorch ones\n",
        "print(torch.ones((2,3)))# 2x3 in tensor"
      ],
      "metadata": {
        "colab": {
          "base_uri": "https://localhost:8080/"
        },
        "id": "QlHQXzBR7uYo",
        "outputId": "e5a0049f-e4bf-4c58-c5a3-a9ff57d1fd38"
      },
      "execution_count": 6,
      "outputs": [
        {
          "output_type": "stream",
          "name": "stdout",
          "text": [
            "Numpy [[1. 1. 1.]\n",
            " [1. 1. 1.]]\n",
            "\n",
            "tensor([[1., 1., 1.],\n",
            "        [1., 1., 1.]])\n"
          ]
        }
      ]
    },
    {
      "cell_type": "code",
      "source": [
        "# numpy random\n",
        "print(\"Numpy {}\\n\".format(np.random.rand(2,3))) # 2x3 random numpy array\n",
        "\n",
        "# pytorch random\n",
        "print(torch.rand(2,3)) # 2x3 random tensor"
      ],
      "metadata": {
        "colab": {
          "base_uri": "https://localhost:8080/"
        },
        "id": "xEV88BpO7uWc",
        "outputId": "a4df4a2b-e81f-4f4b-b686-86cc6b4cd4df"
      },
      "execution_count": 7,
      "outputs": [
        {
          "output_type": "stream",
          "name": "stdout",
          "text": [
            "Numpy [[0.8568964  0.51000394 0.78913024]\n",
            " [0.28464003 0.26625981 0.61723681]]\n",
            "\n",
            "tensor([[0.0431, 0.6725, 0.9021],\n",
            "        [0.2652, 0.9835, 0.8391]])\n"
          ]
        }
      ]
    },
    {
      "cell_type": "markdown",
      "source": [
        "- 텐서와 NumPy 배열 간의 변환을 살펴봅시다.\n",
        "  - torch.from_numpy(): NumPy → Tensor\n",
        "  - .numpy(): Tensor → NumPy"
      ],
      "metadata": {
        "id": "2TAOGUteDLOv"
      }
    },
    {
      "cell_type": "code",
      "source": [
        "# random numpy array\n",
        "array = np.random.rand(2,2)\n",
        "print(\"{} {}\\n\".format(array,array))\n",
        "\n",
        "# numpy -> tensor\n",
        "from_numpy_to_tensor = torch.from_numpy(array)\n",
        "print(\"{}\\n\".format(from_numpy_to_tensor))\n",
        "\n",
        "# tensor -> numpy\n",
        "tensor = from_numpy_to_tensor\n",
        "from_tensor_to_numpy = tensor.numpy()\n",
        "print(\"{} {}\\n\".format(type(from_tensor_to_numpy),from_tensor_to_numpy))"
      ],
      "metadata": {
        "colab": {
          "base_uri": "https://localhost:8080/"
        },
        "id": "yWShZwKC7uUM",
        "outputId": "3155cfa8-cc62-40e7-9721-b1c9feade85d"
      },
      "execution_count": 9,
      "outputs": [
        {
          "output_type": "stream",
          "name": "stdout",
          "text": [
            "[[0.98589848 0.90984222]\n",
            " [0.08501792 0.79231812]] [[0.98589848 0.90984222]\n",
            " [0.08501792 0.79231812]]\n",
            "\n",
            "tensor([[0.9859, 0.9098],\n",
            "        [0.0850, 0.7923]], dtype=torch.float64)\n",
            "\n",
            "<class 'numpy.ndarray'> [[0.98589848 0.90984222]\n",
            " [0.08501792 0.79231812]]\n",
            "\n"
          ]
        }
      ]
    },
    {
      "cell_type": "markdown",
      "source": [
        "### PyTorch 기본 수학 연산\n",
        "- 크기 변경(Resize): view()\n",
        "- a와 b는 텐서입니다.\n",
        "- 덧셈(Addition): torch.add(a, b) = a + b\n",
        "- 뺄셈(Subtraction): a.sub(b) = a - b\n",
        "- 원소별 곱(Element-wise Multiplication): torch.mul(a, b) = a * b\n",
        "- 원소별 나눗셈(Element-wise Division): torch.div(a, b) = a / b\n",
        "- 평균(Mean): a.mean()\n",
        "- 표준 편차(Standard Deviation, std): a.std()\n"
      ],
      "metadata": {
        "id": "bsJkMU_lDZgy"
      }
    },
    {
      "cell_type": "code",
      "source": [
        "# 텐서 생성\n",
        "tensor = torch.rand(3,3)\n",
        "print(\"\\n\",tensor)\n",
        "\n",
        "# 크기 변경\n",
        "print(\"{}{}\\n\".format(tensor.reshape(9).shape,tensor.reshape(9)))\n",
        "\n",
        "# 덧셈\n",
        "print(\"Addition: {}\\n\".format(torch.add(tensor,tensor)))\n",
        "\n",
        "# 뺄셈\n",
        "print(\"Subtraction: {}\\n\".format(tensor.sub(tensor)))\n",
        "\n",
        "# 원소별 곱\n",
        "print(\"Element wise multiplication: {}\\n\".format(torch.mul(tensor,tensor)))\n",
        "\n",
        "# 원소별 나눗셈\n",
        "print(\"Element wise division: {}\\n\".format(torch.div(tensor,tensor)))\n",
        "\n",
        "# 평균\n",
        "tensor = torch.Tensor([1,2,3,4,5])\n",
        "print(\"Mean: {}\".format(tensor.mean()))\n",
        "\n",
        "# 표준편차\n",
        "print(\"std: {}\".format(tensor.std()))"
      ],
      "metadata": {
        "colab": {
          "base_uri": "https://localhost:8080/"
        },
        "id": "V6iLiAPS7uQs",
        "outputId": "a7a85832-848b-47b9-a295-e205315866ab"
      },
      "execution_count": 10,
      "outputs": [
        {
          "output_type": "stream",
          "name": "stdout",
          "text": [
            "\n",
            " tensor([[0.9400, 0.4421, 0.9431],\n",
            "        [0.8000, 0.7644, 0.4139],\n",
            "        [0.9167, 0.3112, 0.1884]])\n",
            "torch.Size([9])tensor([0.9400, 0.4421, 0.9431, 0.8000, 0.7644, 0.4139, 0.9167, 0.3112, 0.1884])\n",
            "\n",
            "Addition: tensor([[1.8799, 0.8841, 1.8863],\n",
            "        [1.5999, 1.5288, 0.8278],\n",
            "        [1.8333, 0.6224, 0.3768]])\n",
            "\n",
            "Subtraction: tensor([[0., 0., 0.],\n",
            "        [0., 0., 0.],\n",
            "        [0., 0., 0.]])\n",
            "\n",
            "Element wise multiplication: tensor([[0.8835, 0.1954, 0.8895],\n",
            "        [0.6399, 0.5843, 0.1713],\n",
            "        [0.8403, 0.0968, 0.0355]])\n",
            "\n",
            "Element wise division: tensor([[1., 1., 1.],\n",
            "        [1., 1., 1.],\n",
            "        [1., 1., 1.]])\n",
            "\n",
            "Mean: 3.0\n",
            "std: 1.5811388492584229\n"
          ]
        }
      ]
    },
    {
      "cell_type": "markdown",
      "source": [
        "### Variables  \n",
        "- 변수는 그래디언트(Gradients)를 누적합니다.\n",
        "- 우리는 PyTorch를 신경망에 사용할 것입니다. 신경망에서는 역전파(Backpropagation) 과정에서 그래디언트를 계산하게 됩니다. 따라서 그래디언트를 다룰 필요가 있습니다.\n",
        "- 변수(Variable)와 텐서(Tensor)의 차이점은 변수가 그래디언트를 누적한다는 것입니다.  \n",
        "- 변수를 사용하여 수학 연산을 수행할 수도 있습니다.  \n",
        "- 역전파를 수행하려면 변수가 필요합니다."
      ],
      "metadata": {
        "id": "HxVIlKSQEIXx"
      }
    },
    {
      "cell_type": "code",
      "source": [
        "from torch.autograd import Variable\n",
        "\n",
        "# variable 정의\n",
        "var = Variable(torch.ones(3), requires_grad = True)\n",
        "var"
      ],
      "metadata": {
        "colab": {
          "base_uri": "https://localhost:8080/"
        },
        "id": "UfpDKji97uOv",
        "outputId": "99fd4455-5774-4790-b25e-d2313779da7a"
      },
      "execution_count": 11,
      "outputs": [
        {
          "output_type": "execute_result",
          "data": {
            "text/plain": [
              "tensor([1., 1., 1.], requires_grad=True)"
            ]
          },
          "metadata": {},
          "execution_count": 11
        }
      ]
    },
    {
      "cell_type": "code",
      "source": [
        "# 기본적인 역전파(backward propagation) 수행\n",
        "# 주어진 함수 y = x^2\n",
        "array = [2,4]\n",
        "tensor = torch.Tensor(array)\n",
        "x = torch.tensor(tensor, requires_grad = True)\n",
        "y = x**2\n",
        "print(\" y =  \",y)\n",
        "\n",
        "# 방정식 요약: o = 1/2*sum(y)\n",
        "o = (1/2)*sum(y)\n",
        "print(\" o =  \",o)\n",
        "\n",
        "# 역전파 실행(그래디언트 계산)\n",
        "o.backward()\n",
        "\n",
        "# 변수는 그래디언트를 누적. 여기서는 x 하나만 존재.\n",
        "# 따라선 변수 x는 그래디언트를 가져야 함\n",
        "# x의 그래디언트 출\n",
        "print(\"gradients: \",x.grad)"
      ],
      "metadata": {
        "colab": {
          "base_uri": "https://localhost:8080/"
        },
        "id": "t4p2w1z_7uMv",
        "outputId": "09795e54-43a6-4ac4-e380-72cb4561cb22"
      },
      "execution_count": 12,
      "outputs": [
        {
          "output_type": "stream",
          "name": "stdout",
          "text": [
            " y =   tensor([ 4., 16.], grad_fn=<PowBackward0>)\n",
            " o =   tensor(10., grad_fn=<MulBackward0>)\n",
            "gradients:  tensor([2., 4.])\n"
          ]
        },
        {
          "output_type": "stream",
          "name": "stderr",
          "text": [
            "/tmp/ipython-input-4065696675.py:5: UserWarning: To copy construct from a tensor, it is recommended to use sourceTensor.detach().clone() or sourceTensor.detach().clone().requires_grad_(True), rather than torch.tensor(sourceTensor).\n",
            "  x = torch.tensor(tensor, requires_grad = True)\n"
          ]
        }
      ]
    },
    {
      "cell_type": "markdown",
      "source": [
        "<a id=\"2\"></a> <br>\n",
        "## 2. 선형 회귀\n",
        "\n",
        "- y = Ax + B\n",
        "    - A = 기울기\n",
        "    - B = 절편 (y축과 교차하는 점)\n",
        "\n",
        "- 자동차 가격이 낮으면 더 많이 팔리고, 자동차 가격이 높으면 덜 팔린다는 사실을 우리는 알고 있으며, 이에 대한 데이터셋을 가지고 있습니다.\n",
        "\n",
        "- 목표는 자동차 가격이 100일 때 팔린 자동차의 수를 예측하는 것입니다."
      ],
      "metadata": {
        "id": "Jq1tID2f9DOP"
      }
    },
    {
      "cell_type": "code",
      "source": [
        "# 자동차 회사에서 과거 판매 데이터를 수집했다고 가정\n",
        "# 자동차 가격 데이터 정의\n",
        "car_prices_array = [3,4,5,6,7,8,9]\n",
        "car_price_np = np.array(car_prices_array,dtype=np.float32) # numpy array로 변환\n",
        "car_price_np = car_price_np.reshape(-1,1) #reshape\n",
        "car_price_tensor = torch.tensor(torch.from_numpy(car_price_np)) # define variable\n",
        "\n",
        "# 자동차 판매량 데이터 정의\n",
        "number_of_car_sell_array = [ 7.5, 7, 6.5, 6.0, 5.5, 5.0, 4.5]\n",
        "number_of_car_sell_np = np.array(number_of_car_sell_array,dtype=np.float32) # numpy array 로 변환\n",
        "number_of_car_sell_np = number_of_car_sell_np.reshape(-1,1) #reshape\n",
        "number_of_car_sell_tensor = torch.tensor(torch.from_numpy(number_of_car_sell_np)) # define variable\n",
        "\n",
        "# 데이터 시각화\n",
        "import matplotlib.pyplot as plt\n",
        "plt.scatter(car_prices_array,number_of_car_sell_array)\n",
        "plt.xlabel(\"Car Price $\")\n",
        "plt.ylabel(\"Number of Car Sell\")\n",
        "plt.title(\"Car Price$ VS Number of Car Sell\")\n",
        "plt.show()"
      ],
      "metadata": {
        "colab": {
          "base_uri": "https://localhost:8080/",
          "height": 565
        },
        "id": "5r4kXCwf7uKP",
        "outputId": "a392ebfb-771e-4d9a-d888-bfeb2d5bc6da"
      },
      "execution_count": 13,
      "outputs": [
        {
          "output_type": "stream",
          "name": "stderr",
          "text": [
            "/tmp/ipython-input-4280133023.py:6: UserWarning: To copy construct from a tensor, it is recommended to use sourceTensor.detach().clone() or sourceTensor.detach().clone().requires_grad_(True), rather than torch.tensor(sourceTensor).\n",
            "  car_price_tensor = torch.tensor(torch.from_numpy(car_price_np)) # define variable\n",
            "/tmp/ipython-input-4280133023.py:12: UserWarning: To copy construct from a tensor, it is recommended to use sourceTensor.detach().clone() or sourceTensor.detach().clone().requires_grad_(True), rather than torch.tensor(sourceTensor).\n",
            "  number_of_car_sell_tensor = torch.tensor(torch.from_numpy(number_of_car_sell_np)) # define variable\n"
          ]
        },
        {
          "output_type": "display_data",
          "data": {
            "text/plain": [
              "<Figure size 640x480 with 1 Axes>"
            ],
            "image/png": "[encoded data removed]"
          },
          "metadata": {}
        }
      ]
    },
    {
      "cell_type": "markdown",
      "source": [
        "- 이제 이 그래프는 우리가 수집한 데이터입니다.\n",
        "- 우리는 자동차 가격이 100달러일 때 판매된 자동차의 수가 무엇일지를 묻는 질문을 가지고 있습니다.\n",
        "- 이 질문을 해결하기 위해 우리는 선형 회귀를 사용해야 합니다.\n",
        "- 우리는 이 데이터에 맞는 선을 찾아야 합니다. 목표는 최소한의 오류로 선을 맞추는 것입니다.\n",
        "\n",
        "---\n",
        "\n",
        "- **선형 회귀의 단계**\n",
        "    1. LinearRegression 클래스를 생성합니다.\n",
        "    2. 이 LinearRegression 클래스로 모델을 정의합니다.\n",
        "    3. MSE: 평균 제곱 오차(Mean Squared Error)\n",
        "    4. 최적화 (SGD: 확률적 경사 하강법)\n",
        "    5. 역전파 (Backpropagation)\n",
        "    6. 예측 (Prediction)"
      ],
      "metadata": {
        "id": "MOlzmdG89JCT"
      }
    },
    {
      "cell_type": "code",
      "source": [
        "# PyTorch를 이용한 선형 회귀 모델 구현\n",
        "\n",
        "import torch\n",
        "from torch.autograd import Variable\n",
        "import torch.nn as nn\n",
        "import warnings\n",
        "warnings.filterwarnings(\"ignore\")\n",
        "\n",
        "# 선형 회귀 클래스 정의\n",
        "class LinearRegression(nn.Module):\n",
        "    def __init__(self, input_size, output_size):\n",
        "        super(LinearRegression, self).__init__()\n",
        "        self.linear = nn.Linear(input_dim,output_dim) # apply linear function\n",
        "\n",
        "    def forward(self, x):\n",
        "        return self.linear(x)\n",
        "\n",
        "# 모델 정의\n",
        "input_dim = 1\n",
        "output_dim = 1\n",
        "model = LinearRegression(input_dim,output_dim)\n",
        "\n",
        "# 손실 함수 (MSE)\n",
        "mse = nn.MSELoss()\n",
        "\n",
        "# 옵티마이저 (SGD 사용)\n",
        "learning_rate = 0.02\n",
        "optimizer = torch.optim.SGD(model.parameters(), lr=learning_rate)\n",
        "\n",
        "# 모델 학습\n",
        "loss_list = []\n",
        "iteration_number = 1001\n",
        "for iteration in range(iteration_number):\n",
        "    optimizer.zero_grad()  # 기울기 초기화\n",
        "    results = model(car_price_tensor)  # 예측값 계산\n",
        "    loss = mse(results, number_of_car_sell_tensor) # 손실 계산\n",
        "    # 역전파 실행\n",
        "    loss.backward()\n",
        "    # 가중치 업데이트\n",
        "    optimizer.step()\n",
        "    # loss 저장\n",
        "    loss_list.append(loss.item())\n",
        "    # loss 출력\n",
        "    if iteration % 50 == 0:\n",
        "        print(f'epoch {iteration}, loss {loss.data}')\n",
        "\n",
        "# 손실 그래프 시각화\n",
        "plt.plot(range(iteration_number), loss_list)\n",
        "plt.xlabel(\"Number of Iterations\")\n",
        "plt.ylabel(\"Loss\")\n",
        "plt.show()"
      ],
      "metadata": {
        "colab": {
          "base_uri": "https://localhost:8080/",
          "height": 835
        },
        "id": "6MvDUc9b7uHf",
        "outputId": "4cb381d5-2b9c-4f91-c3e1-07805d550da4"
      },
      "execution_count": 14,
      "outputs": [
        {
          "output_type": "stream",
          "name": "stdout",
          "text": [
            "epoch 0, loss 8.59068775177002\n",
            "epoch 50, loss 4.516118049621582\n",
            "epoch 100, loss 3.0517303943634033\n",
            "epoch 150, loss 2.062181234359741\n",
            "epoch 200, loss 1.3935023546218872\n",
            "epoch 250, loss 0.941648006439209\n",
            "epoch 300, loss 0.6363109350204468\n",
            "epoch 350, loss 0.4299822747707367\n",
            "epoch 400, loss 0.29055753350257874\n",
            "epoch 450, loss 0.19634172320365906\n",
            "epoch 500, loss 0.13267599046230316\n",
            "epoch 550, loss 0.08965437859296799\n",
            "epoch 600, loss 0.06058356538414955\n",
            "epoch 650, loss 0.04093896597623825\n",
            "epoch 700, loss 0.027664262801408768\n",
            "epoch 750, loss 0.018694091588258743\n",
            "epoch 800, loss 0.012632297351956367\n",
            "epoch 850, loss 0.0085361422970891\n",
            "epoch 900, loss 0.005768193397670984\n",
            "epoch 950, loss 0.003897803369909525\n",
            "epoch 1000, loss 0.0026337860617786646\n"
          ]
        },
        {
          "output_type": "display_data",
          "data": {
            "text/plain": [
              "<Figure size 640x480 with 1 Axes>"
            ],
            "image/png": "[encoded data removed]"
          },
          "metadata": {}
        }
      ]
    },
    {
      "cell_type": "markdown",
      "source": [
        "- 반복 횟수는 1000입니다.\n",
        "- 손실 값은 거의 0에 가까우며, 이는 그래프나 1000번째 epoch에서의 손실 값에서 확인할 수 있습니다.\n",
        "- 이제 우리는 훈련된 모델을 가지고 있습니다.\n",
        "- 훈련된 모델을 사용할 때, 자동차 가격을 예측해 봅시다."
      ],
      "metadata": {
        "id": "9odY_Wb59N8H"
      }
    },
    {
      "cell_type": "code",
      "source": [
        "# car price 예측\n",
        "predicted = car_price_tensor.data.numpy()\n",
        "plt.scatter(car_prices_array,number_of_car_sell_array,label = \"original data\",color =\"red\") # original data\n",
        "plt.scatter(car_prices_array,predicted,label = \"predicted data\",color =\"blue\") # predicted data\n",
        "\n",
        "# car price가 10$ 일 때, car sell은?\n",
        "predicted_10 = model(torch.tensor([[10.0]], dtype=torch.float32)).data.numpy()\n",
        "plt.scatter(10,predicted_10[0][0],label = \"car price 10$\",color =\"green\")\n",
        "plt.legend()\n",
        "plt.xlabel(\"Car Price $\")\n",
        "plt.ylabel(\"Number of Car Sell\")\n",
        "plt.title(\"Original vs Predicted values\")\n",
        "plt.show()"
      ],
      "metadata": {
        "colab": {
          "base_uri": "https://localhost:8080/",
          "height": 472
        },
        "id": "FtsHa2uk7uDy",
        "outputId": "3243bd93-9c50-4610-c8a1-ef62766d8373"
      },
      "execution_count": 18,
      "outputs": [
        {
          "output_type": "display_data",
          "data": {
            "text/plain": [
              "<Figure size 640x480 with 1 Axes>"
            ],
            "image/png": "[encoded data removed]"
          },
          "metadata": {}
        }
      ]
    },
    {
      "cell_type": "markdown",
      "source": [
        "<a id=\"3\"></a> <br>\n",
        "## 3. 로지스틱 회귀\n",
        "\n",
        "- 선형 회귀는 분류 문제에서 적합하지 않습니다.\n",
        "- 우리는 분류 문제를 해결하기 위해 로지스틱 회귀를 사용합니다.\n",
        "- 선형 회귀 + 로지스틱 함수(소프트맥스) = 로지스틱 회귀\n",
        "\n",
        "  \n",
        "- **로지스틱 회귀의 단계**\n",
        "    1. 라이브러리 가져오기\n",
        "    2. 데이터셋 준비\n",
        "        - 우리는 MNIST 데이터셋을 사용합니다.\n",
        "        - 28x28 이미지와 0부터 9까지의 10개의 레이블이 있습니다.\n",
        "        - 데이터는 정규화되지 않았기 때문에 각 이미지를 255로 나눠 기본적인 정규화를 진행합니다.\n",
        "        - 데이터를 분할하기 위해 sklearn 라이브러리의 `train_test_split` 메서드를 사용합니다.\n",
        "        - 학습 데이터 크기는 80%, 테스트 데이터 크기는 20%입니다.\n",
        "        - 특성(feature)과 목표(target) 텐서를 생성합니다. 이후 텐서에서 변수(variable)를 생성합니다. 이 변수는 기울기 누적을 위해 정의됩니다.\n",
        "        - `batch_size` = 배치 크기는 예를 들어, 1000개의 샘플이 있을 때, 이 샘플을 한 번에 모두 훈련시킬 수도 있고, 100개의 샘플씩 10개의 그룹으로 나누어 순차적으로 훈련시킬 수도 있습니다. 예를 들어, `batch_size = 100`이라면, 모든 데이터를 한 번 훈련시키는 데 336개의 그룹을 사용합니다. 각 그룹은 100개의 샘플을 가지고 있으며, 총 33600개의 샘플을 훈련합니다.\n",
        "        - `epoch`: 1 epoch는 모든 샘플을 한 번 훈련시키는 것입니다.\n",
        "        - 예를 들어, 33600개의 샘플이 있고, 배치 크기(batch_size)는 100, epoch는 29로 설정한 경우, 29번 훈련을 진행합니다. 그럼 총 몇 번의 반복(iteration)이 필요한지 계산해 봅시다:\n",
        "            - 훈련 데이터 1번 = 33600개의 샘플 훈련\n",
        "            - 하지만 데이터를 336개의 그룹으로 나누었으므로, 1 epoch는 336번의 반복이 필요합니다.\n",
        "            - 29 epoch 동안 훈련하므로, 총 반복 횟수는 9744번입니다(대략 10000번).\n",
        "        - `TensorDataset()`: 텐서를 래핑하는 데이터셋. 각 샘플은 텐서를 첫 번째 차원으로 인덱싱하여 검색됩니다.\n",
        "        - `DataLoader()`: 데이터셋과 샘플을 결합하고, 데이터셋에 대한 다중 프로세스 반복기를 제공합니다.\n",
        "        - 데이터셋의 이미지를 하나 시각화해봅니다.\n",
        "    3. 로지스틱 회귀 모델 생성\n",
        "        - 선형 회귀와 비슷합니다.\n",
        "        - 하지만 예측을 위해 모델에 로지스틱 함수(소프트맥스)가 포함되어야 합니다.\n",
        "        - PyTorch에서는 로지스틱 함수가 손실 함수에 포함되어 있으며, 이후 단계에서 이를 사용합니다.\n",
        "    4. 모델 인스턴스화\n",
        "        - `input_dim = 28*28` # 이미지 크기 px*px\n",
        "        - `output_dim = 10`  # 레이블 0,1,2,3,4,5,6,7,8,9\n",
        "        - 모델을 생성합니다.\n",
        "    5. 손실 함수 인스턴스화\n",
        "        - 교차 엔트로피 손실\n",
        "        - 손실을 계산하는 함수로, 소프트맥스(로지스틱 함수)도 포함되어 있습니다.\n",
        "    6. 옵티마이저 인스턴스화\n",
        "        - SGD 옵티마이저\n",
        "    7. 모델 훈련\n",
        "    8. 예측\n",
        "- 결과적으로, 그래프에서 볼 수 있듯이 손실 값은 감소하고, 정확도는 약 85%까지 증가하며 모델이 훈련되고 있음을 확인할 수 있습니다."
      ],
      "metadata": {
        "id": "7uXrwVTU9VFH"
      }
    },
    {
      "cell_type": "code",
      "source": [
        "import torch\n",
        "import torch.nn as nn\n",
        "from torch.autograd import Variable\n",
        "from torch.utils.data import DataLoader\n",
        "import pandas as pd\n",
        "from sklearn.model_selection import train_test_split\n",
        "from torch.utils.data import TensorDataset, DataLoader"
      ],
      "metadata": {
        "id": "FvnI_38-8CfS"
      },
      "execution_count": 21,
      "outputs": []
    },
    {
      "cell_type": "code",
      "source": [
        "# 데이터셋 준비\n",
        "# 데이터 로드\n",
        "train = pd.read_csv(r\"./train.csv\", dtype=np.float32)\n",
        "\n",
        "# 데이터를 특징(픽셀 값)과 라벨(0~9 숫자)로 분리\n",
        "targets_numpy = train.label.values\n",
        "features_numpy = train.loc[:, train.columns != \"label\"].values / 255  # 정규화\n",
        "\n",
        "# 학습 데이터 80%, 테스트 데이터 20%로 분할\n",
        "features_train, features_test, targets_train, targets_test = train_test_split(\n",
        "    features_numpy, targets_numpy, test_size=0.2, random_state=42\n",
        ")\n",
        "\n",
        "# 학습 데이터셋을 텐서로 변환 (경사 계산을 위해 Variable 생성 필요)\n",
        "featuresTrain = torch.from_numpy(features_train)\n",
        "targetsTrain = torch.from_numpy(targets_train).type(torch.LongTensor)  # 데이터 타입은 long\n",
        "\n",
        "# 테스트 데이터셋을 텐서로 변환\n",
        "featuresTest = torch.from_numpy(features_test)\n",
        "targetsTest = torch.from_numpy(targets_test).type(torch.LongTensor)\n",
        "## 힌트: PyTorch Tesnor를 생성해주세요!\n",
        "## 어떤 데이터를 PyTorch Tensor를 변환하고, 어떤 데이터타입을 선택할지 직접 작성해주세요\n",
        "\n",
        "# 배치 크기, 반복 횟수 및 에포크 설정\n",
        "batch_size = 100\n",
        "n_iters = 10000\n",
        "num_epochs = int(n_iters / (len(features_train) / batch_size))\n",
        "\n",
        "# PyTorch 학습 및 테스트 데이터셋 생성\n",
        "train = TensorDataset(featuresTrain, targetsTrain)\n",
        "test = TensorDataset(featuresTest, targetsTest)\n",
        "## 힌트: 입력 데이터와 레이블을 텐서로 변환하여, 이들을 TensorDataset으로 묶어 train과 test 데이터셋을 구성합니다\n",
        "## TensorDataset에는 두 개의 텐서를 전달해야 하며, 각각 특징과 레이블에 해당합니다.\n",
        "## 첫 번째 텐서는 입력 데이터, 두 번째 텐서는 정답 데이터이며 입력 데이터와 정답 데이터의 샘플 수가 동일해야 합니다.\n",
        "\n",
        "# 데이터 로더 생성\n",
        "train_loader = DataLoader(train, batch_size=batch_size, shuffle=False)\n",
        "test_loader = DataLoader(test, batch_size=batch_size, shuffle=False)\n",
        "\n",
        "# 데이터셋 중 하나의 이미지를 시각화\n",
        "plt.imshow(features_numpy[10].reshape(28, 28))\n",
        "plt.axis(\"off\")\n",
        "plt.title(str(targets_numpy[10]))\n",
        "plt.savefig('graph.png')\n",
        "plt.show()"
      ],
      "metadata": {
        "colab": {
          "base_uri": "https://localhost:8080/",
          "height": 428
        },
        "id": "cPmM5DM48Cb6",
        "outputId": "4c70d9b5-b519-4b96-87e7-05552be13422"
      },
      "execution_count": 22,
      "outputs": [
        {
          "output_type": "display_data",
          "data": {
            "text/plain": [
              "<Figure size 640x480 with 1 Axes>"
            ],
            "image/png": "[encoded data removed]"
          },
          "metadata": {}
        }
      ]
    },
    {
      "cell_type": "code",
      "source": [
        "# 로지스틱 회귀 모델 생성\n",
        "class LogisticRegressionModel(nn.Module):\n",
        "    def __init__(self, input_dim, output_dim):\n",
        "        super(LogisticRegressionModel, self).__init__()\n",
        "        # 선형 계층 설정\n",
        "        self.linear = nn.Linear(input_dim, output_dim)\n",
        "        # 로지스틱 함수는 손실 함수에 포함되어 있으므로 별도로 정의할 필요 없음\n",
        "\n",
        "    def forward(self, x):\n",
        "        out = self.linear(x)\n",
        "        return out\n",
        "\n",
        "# 모델 인스턴스화\n",
        "input_dim = 28 * 28  # 이미지 크기 (픽셀 * 픽셀)\n",
        "output_dim = 10  # 출력 라벨 (0~9)\n",
        "\n",
        "# 로지스틱 회귀 모델 생성\n",
        "model = LogisticRegressionModel(input_dim, output_dim)\n",
        "\n",
        "# 크로스 엔트로피 손실 함수\n",
        "error = nn.CrossEntropyLoss()\n",
        "\n",
        "# SGD 옵티마이저 설정\n",
        "learning_rate = 0.001\n",
        "optimizer = torch.optim.SGD(model.parameters(), lr=learning_rate)\n",
        "## 힌트: 모델 파라미터를 model.parameters()로 넘겨줍니다\n",
        "## 학습률(learning rate)은 훈련 속도를 결정합니다\n",
        "## 최적화 함수가 SGD이므로, torch.optim.SGD를 사용합니다"
      ],
      "metadata": {
        "id": "S73aSJuz8CZq"
      },
      "execution_count": 23,
      "outputs": []
    },
    {
      "cell_type": "code",
      "source": [
        "# 모델 학습\n",
        "count = 0\n",
        "loss_list = []\n",
        "iteration_list = []\n",
        "for epoch in range(num_epochs):\n",
        "    for i, (images, labels) in enumerate(train_loader):\n",
        "\n",
        "        # 변수 정의\n",
        "        train = Variable(images.view(-1, 28 * 28))\n",
        "        labels = Variable(labels)\n",
        "\n",
        "        # 경사 초기화\n",
        "        optimizer.zero_grad()\n",
        "\n",
        "        # 순전파\n",
        "        outputs = model(train)\n",
        "\n",
        "        # 소프트맥스 및 크로스 엔트로피 손실 계산\n",
        "        loss = error(outputs, labels)\n",
        "\n",
        "        # 역전파를 통한 경사 계산\n",
        "        loss.backward()\n",
        "\n",
        "        # 가중치 업데이트\n",
        "        optimizer.step()\n",
        "\n",
        "        count += 1\n",
        "\n",
        "        # 정확도 측정\n",
        "        if count % 50 == 0:\n",
        "            correct = 0\n",
        "            total = 0\n",
        "            # 테스트 데이터셋 예측 수행\n",
        "            for images, labels in test_loader:\n",
        "                test = Variable(images.view(-1, 28 * 28))\n",
        "\n",
        "                # 순전파\n",
        "                outputs = model(test)\n",
        "\n",
        "                # 최댓값을 기준으로 예측값 결정\n",
        "                predicted = torch.max(outputs.data, 1)[1]\n",
        "\n",
        "                # 전체 라벨 개수\n",
        "                total += len(labels)\n",
        "\n",
        "                # 맞춘 개수 계산\n",
        "                correct += (predicted == labels).sum()\n",
        "\n",
        "            accuracy = 100 * correct / float(total)\n",
        "\n",
        "            # 손실 및 반복 횟수 저장\n",
        "            loss_list.append(loss.data)\n",
        "            iteration_list.append(count)\n",
        "\n",
        "        # 500번마다 손실 출력\n",
        "        if count % 500 == 0:\n",
        "            print('Iteration: {}  Loss: {}  Accuracy: {}%'.format(count, loss.data, accuracy))"
      ],
      "metadata": {
        "colab": {
          "base_uri": "https://localhost:8080/"
        },
        "id": "Oc4X8eZt8CXq",
        "outputId": "e195fe0b-cd7e-4319-f81d-e50ff7855df7"
      },
      "execution_count": 24,
      "outputs": [
        {
          "output_type": "stream",
          "name": "stdout",
          "text": [
            "Iteration: 500  Loss: 1.8414409160614014  Accuracy: 64.95237731933594%\n",
            "Iteration: 1000  Loss: 1.592972993850708  Accuracy: 74.73809814453125%\n",
            "Iteration: 1500  Loss: 1.2991573810577393  Accuracy: 78.36904907226562%\n",
            "Iteration: 2000  Loss: 1.2018214464187622  Accuracy: 80.04762268066406%\n",
            "Iteration: 2500  Loss: 1.0400274991989136  Accuracy: 81.13095092773438%\n",
            "Iteration: 3000  Loss: 0.9298849701881409  Accuracy: 82.05952453613281%\n",
            "Iteration: 3500  Loss: 0.8991484642028809  Accuracy: 82.5952377319336%\n",
            "Iteration: 4000  Loss: 0.7534478902816772  Accuracy: 83.11904907226562%\n",
            "Iteration: 4500  Loss: 0.9691622257232666  Accuracy: 83.58333587646484%\n",
            "Iteration: 5000  Loss: 0.8100345134735107  Accuracy: 83.94047546386719%\n",
            "Iteration: 5500  Loss: 0.7504124641418457  Accuracy: 84.17857360839844%\n",
            "Iteration: 6000  Loss: 0.8634453415870667  Accuracy: 84.45237731933594%\n",
            "Iteration: 6500  Loss: 0.6738848686218262  Accuracy: 84.70237731933594%\n",
            "Iteration: 7000  Loss: 0.7104810476303101  Accuracy: 85.01190185546875%\n",
            "Iteration: 7500  Loss: 0.6442397832870483  Accuracy: 85.16666412353516%\n",
            "Iteration: 8000  Loss: 0.7430422902107239  Accuracy: 85.22618865966797%\n",
            "Iteration: 8500  Loss: 0.5564971566200256  Accuracy: 85.35713958740234%\n",
            "Iteration: 9000  Loss: 0.6563778519630432  Accuracy: 85.54762268066406%\n",
            "Iteration: 9500  Loss: 0.5258890390396118  Accuracy: 85.64286041259766%\n"
          ]
        }
      ]
    },
    {
      "cell_type": "code",
      "source": [
        "# 시각화\n",
        "plt.plot(iteration_list,loss_list)\n",
        "plt.xlabel(\"Number of iteration\")\n",
        "plt.ylabel(\"Loss\")\n",
        "plt.title(\"Logistic Regression: Loss vs Number of iteration\")\n",
        "plt.show()"
      ],
      "metadata": {
        "colab": {
          "base_uri": "https://localhost:8080/",
          "height": 472
        },
        "id": "FctKP-1E8CVh",
        "outputId": "1afb2931-6be6-4603-a277-cf26333edb82"
      },
      "execution_count": 25,
      "outputs": [
        {
          "output_type": "display_data",
          "data": {
            "text/plain": [
              "<Figure size 640x480 with 1 Axes>"
            ],
            "image/png": "[encoded data removed]"
          },
          "metadata": {}
        }
      ]
    }
  ]
}